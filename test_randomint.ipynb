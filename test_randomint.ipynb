{
  "nbformat": 4,
  "nbformat_minor": 0,
  "metadata": {
    "colab": {
      "provenance": [],
      "authorship_tag": "ABX9TyPjq4bxUnmU2mpEA6cwLuHN",
      "include_colab_link": true
    },
    "kernelspec": {
      "name": "python3",
      "display_name": "Python 3"
    },
    "language_info": {
      "name": "python"
    }
  },
  "cells": [
    {
      "cell_type": "markdown",
      "metadata": {
        "id": "view-in-github",
        "colab_type": "text"
      },
      "source": [
        "<a href=\"https://colab.research.google.com/github/Kai60714/Machine-learning-crash-course/blob/main/test_randomint.ipynb\" target=\"_parent\"><img src=\"https://colab.research.google.com/assets/colab-badge.svg\" alt=\"Open In Colab\"/></a>"
      ]
    },
    {
      "cell_type": "code",
      "execution_count": 2,
      "metadata": {
        "id": "SvaqgmgtMWYt"
      },
      "outputs": [],
      "source": [
        "import pandas as pd\n",
        "import tensorflow as tf\n",
        "from matplotlib import pyplot as plt\n"
      ]
    },
    {
      "cell_type": "code",
      "execution_count": 3,
      "metadata": {
        "id": "xvO_beKVP1Ke",
        "colab": {
          "base_uri": "https://localhost:8080/"
        },
        "outputId": "5a673729-06d1-4975-921b-a8e7ac7cad44"
      },
      "outputs": [
        {
          "output_type": "stream",
          "name": "stdout",
          "text": [
            "Defined build_model and train_model\n",
            "Defined the plot_the_model and plot_the_loss_curve functions.\n"
          ]
        }
      ],
      "source": [
        "#@title Define the functions that build and train a model\n",
        "def build_model(my_learning_rate):\n",
        "  \"\"\"Create and compile a simple linear regression model.\"\"\"\n",
        "  # Most simple tf.keras models are sequential. \n",
        "  # A sequential model contains one or more layers.\n",
        "  model = tf.keras.models.Sequential()\n",
        "\n",
        "  # Describe the topography of the model.\n",
        "  # The topography of a simple linear regression model\n",
        "  # is a single node in a single layer. \n",
        "  model.add(tf.keras.layers.Dense(units=1, \n",
        "                                  input_shape=(1,)))\n",
        "\n",
        "  # Compile the model topography into code that \n",
        "  # TensorFlow can efficiently execute. Configure \n",
        "  # training to minimize the model's mean squared error. \n",
        "  model.compile(optimizer=tf.keras.optimizers.RMSprop(lr=my_learning_rate),\n",
        "                loss=\"mean_squared_error\",\n",
        "                metrics=[tf.keras.metrics.RootMeanSquaredError()])\n",
        "\n",
        "  return model           \n",
        "\n",
        "\n",
        "def train_model(model, feature, label, epochs, batch_size):\n",
        "  \"\"\"Train the model by feeding it data.\"\"\"\n",
        "\n",
        "  # Feed the feature values and the label values to the \n",
        "  # model. The model will train for the specified number \n",
        "  # of epochs, gradually learning how the feature values\n",
        "  # relate to the label values. \n",
        "  history = model.fit(x=feature,\n",
        "                      y=label,\n",
        "                      batch_size=batch_size,\n",
        "                      epochs=epochs)\n",
        "\n",
        "  # Gather the trained model's weight and bias.\n",
        "  trained_weight = model.get_weights()[0]\n",
        "  trained_bias = model.get_weights()[1]\n",
        "\n",
        "  # The list of epochs is stored separately from the \n",
        "  # rest of history.\n",
        "  epochs = history.epoch\n",
        "  \n",
        "  # Gather the history (a snapshot) of each epoch.\n",
        "  hist = pd.DataFrame(history.history)\n",
        "\n",
        "  # Specifically gather the model's root mean \n",
        "  # squared error at each epoch. \n",
        "  rmse = hist[\"root_mean_squared_error\"]\n",
        "\n",
        "  return trained_weight, trained_bias, epochs, rmse\n",
        "\n",
        "print(\"Defined build_model and train_model\")#@title Define the plotting functions\n",
        "def plot_the_model(trained_weight, trained_bias, feature, label):\n",
        "  \"\"\"Plot the trained model against the training feature and label.\"\"\"\n",
        "\n",
        "  # Label the axes.\n",
        "  plt.xlabel(\"feature\")\n",
        "  plt.ylabel(\"label\")\n",
        "\n",
        "  # Plot the feature values vs. label values.\n",
        "  plt.scatter(feature, label)\n",
        "\n",
        "  # Create a red line representing the model. The red line starts\n",
        "  # at coordinates (x0, y0) and ends at coordinates (x1, y1).\n",
        "  x0 = 0\n",
        "  y0 = trained_bias\n",
        "  x1 = feature[-1]\n",
        "  y1 = trained_bias + (trained_weight * x1)\n",
        "  plt.plot([x0, x1], [y0, y1], c='r')\n",
        "\n",
        "  # Render the scatter plot and the red line.\n",
        "  plt.show()\n",
        "\n",
        "def plot_the_loss_curve(epochs, rmse):\n",
        "  \"\"\"Plot the loss curve, which shows loss vs. epoch.\"\"\"\n",
        "\n",
        "  plt.figure()\n",
        "  plt.xlabel(\"Epoch\")\n",
        "  plt.ylabel(\"Root Mean Squared Error\")\n",
        "\n",
        "  plt.plot(epochs, rmse, label=\"Loss\")\n",
        "  plt.legend()\n",
        "  plt.ylim([rmse.min()*0.97, rmse.max()])\n",
        "  plt.show()\n",
        "\n",
        "print(\"Defined the plot_the_model and plot_the_loss_curve functions.\")"
      ]
    },
    {
      "cell_type": "code",
      "source": [
        "my_feature=[1.4,2.3,3.6,5.9,7.2,8.1]\n",
        "my_label=[1,3,4,7,10,11]\n"
      ],
      "metadata": {
        "id": "M6WBPFoHMh2f"
      },
      "execution_count": 4,
      "outputs": []
    },
    {
      "cell_type": "code",
      "execution_count": 9,
      "metadata": {
        "id": "Ye730h13CQ97",
        "colab": {
          "base_uri": "https://localhost:8080/",
          "height": 1000
        },
        "outputId": "da992ceb-3905-4efe-fe25-0ddaa49cf0ec"
      },
      "outputs": [
        {
          "output_type": "stream",
          "name": "stdout",
          "text": [
            "Epoch 1/100\n"
          ]
        },
        {
          "output_type": "stream",
          "name": "stderr",
          "text": [
            "/usr/local/lib/python3.8/dist-packages/keras/optimizers/optimizer_v2/rmsprop.py:135: UserWarning: The `lr` argument is deprecated, use `learning_rate` instead.\n",
            "  super(RMSprop, self).__init__(name, **kwargs)\n"
          ]
        },
        {
          "output_type": "stream",
          "name": "stdout",
          "text": [
            "2/2 [==============================] - 0s 6ms/step - loss: 2.8116 - root_mean_squared_error: 1.6768\n",
            "Epoch 2/100\n",
            "2/2 [==============================] - 0s 6ms/step - loss: 2.2275 - root_mean_squared_error: 1.4925\n",
            "Epoch 3/100\n",
            "2/2 [==============================] - 0s 5ms/step - loss: 1.8386 - root_mean_squared_error: 1.3560\n",
            "Epoch 4/100\n",
            "2/2 [==============================] - 0s 7ms/step - loss: 1.5211 - root_mean_squared_error: 1.2333\n",
            "Epoch 5/100\n",
            "2/2 [==============================] - 0s 11ms/step - loss: 1.3084 - root_mean_squared_error: 1.1438\n",
            "Epoch 6/100\n",
            "2/2 [==============================] - 0s 9ms/step - loss: 1.1821 - root_mean_squared_error: 1.0872\n",
            "Epoch 7/100\n",
            "2/2 [==============================] - 0s 19ms/step - loss: 1.0058 - root_mean_squared_error: 1.0029\n",
            "Epoch 8/100\n",
            "2/2 [==============================] - 0s 16ms/step - loss: 0.9205 - root_mean_squared_error: 0.9594\n",
            "Epoch 9/100\n",
            "2/2 [==============================] - 0s 6ms/step - loss: 0.8389 - root_mean_squared_error: 0.9159\n",
            "Epoch 10/100\n",
            "2/2 [==============================] - 0s 5ms/step - loss: 0.7698 - root_mean_squared_error: 0.8774\n",
            "Epoch 11/100\n",
            "2/2 [==============================] - 0s 6ms/step - loss: 0.6715 - root_mean_squared_error: 0.8195\n",
            "Epoch 12/100\n",
            "2/2 [==============================] - 0s 8ms/step - loss: 0.6465 - root_mean_squared_error: 0.8041\n",
            "Epoch 13/100\n",
            "2/2 [==============================] - 0s 6ms/step - loss: 0.6093 - root_mean_squared_error: 0.7805\n",
            "Epoch 14/100\n",
            "2/2 [==============================] - 0s 10ms/step - loss: 0.5530 - root_mean_squared_error: 0.7437\n",
            "Epoch 15/100\n",
            "2/2 [==============================] - 0s 7ms/step - loss: 0.5277 - root_mean_squared_error: 0.7264\n",
            "Epoch 16/100\n",
            "2/2 [==============================] - 0s 7ms/step - loss: 0.5069 - root_mean_squared_error: 0.7120\n",
            "Epoch 17/100\n",
            "2/2 [==============================] - 0s 6ms/step - loss: 0.4902 - root_mean_squared_error: 0.7002\n",
            "Epoch 18/100\n",
            "2/2 [==============================] - 0s 6ms/step - loss: 0.4763 - root_mean_squared_error: 0.6902\n",
            "Epoch 19/100\n",
            "2/2 [==============================] - 0s 5ms/step - loss: 0.4659 - root_mean_squared_error: 0.6826\n",
            "Epoch 20/100\n",
            "2/2 [==============================] - 0s 5ms/step - loss: 0.4564 - root_mean_squared_error: 0.6756\n",
            "Epoch 21/100\n",
            "2/2 [==============================] - 0s 5ms/step - loss: 0.4496 - root_mean_squared_error: 0.6705\n",
            "Epoch 22/100\n",
            "2/2 [==============================] - 0s 6ms/step - loss: 0.4598 - root_mean_squared_error: 0.6781\n",
            "Epoch 23/100\n",
            "2/2 [==============================] - 0s 5ms/step - loss: 0.4374 - root_mean_squared_error: 0.6613\n",
            "Epoch 24/100\n",
            "2/2 [==============================] - 0s 7ms/step - loss: 0.4314 - root_mean_squared_error: 0.6568\n",
            "Epoch 25/100\n",
            "2/2 [==============================] - 0s 7ms/step - loss: 0.4399 - root_mean_squared_error: 0.6632\n",
            "Epoch 26/100\n",
            "2/2 [==============================] - 0s 5ms/step - loss: 0.4204 - root_mean_squared_error: 0.6484\n",
            "Epoch 27/100\n",
            "2/2 [==============================] - 0s 10ms/step - loss: 0.4120 - root_mean_squared_error: 0.6419\n",
            "Epoch 28/100\n",
            "2/2 [==============================] - 0s 8ms/step - loss: 0.4353 - root_mean_squared_error: 0.6598\n",
            "Epoch 29/100\n",
            "2/2 [==============================] - 0s 5ms/step - loss: 0.4055 - root_mean_squared_error: 0.6368\n",
            "Epoch 30/100\n",
            "2/2 [==============================] - 0s 9ms/step - loss: 0.3949 - root_mean_squared_error: 0.6284\n",
            "Epoch 31/100\n",
            "2/2 [==============================] - 0s 6ms/step - loss: 0.3895 - root_mean_squared_error: 0.6241\n",
            "Epoch 32/100\n",
            "2/2 [==============================] - 0s 6ms/step - loss: 0.3840 - root_mean_squared_error: 0.6197\n",
            "Epoch 33/100\n",
            "2/2 [==============================] - 0s 6ms/step - loss: 0.3782 - root_mean_squared_error: 0.6150\n",
            "Epoch 34/100\n",
            "2/2 [==============================] - 0s 7ms/step - loss: 0.3767 - root_mean_squared_error: 0.6138\n",
            "Epoch 35/100\n",
            "2/2 [==============================] - 0s 5ms/step - loss: 0.4417 - root_mean_squared_error: 0.6646\n",
            "Epoch 36/100\n",
            "2/2 [==============================] - 0s 6ms/step - loss: 0.3990 - root_mean_squared_error: 0.6317\n",
            "Epoch 37/100\n",
            "2/2 [==============================] - 0s 7ms/step - loss: 0.3645 - root_mean_squared_error: 0.6037\n",
            "Epoch 38/100\n",
            "2/2 [==============================] - 0s 10ms/step - loss: 0.3571 - root_mean_squared_error: 0.5976\n",
            "Epoch 39/100\n",
            "2/2 [==============================] - 0s 5ms/step - loss: 0.3766 - root_mean_squared_error: 0.6137\n",
            "Epoch 40/100\n",
            "2/2 [==============================] - 0s 10ms/step - loss: 0.3493 - root_mean_squared_error: 0.5910\n",
            "Epoch 41/100\n",
            "2/2 [==============================] - 0s 5ms/step - loss: 0.3607 - root_mean_squared_error: 0.6005\n",
            "Epoch 42/100\n",
            "2/2 [==============================] - 0s 5ms/step - loss: 0.3925 - root_mean_squared_error: 0.6265\n",
            "Epoch 43/100\n",
            "2/2 [==============================] - 0s 8ms/step - loss: 0.3388 - root_mean_squared_error: 0.5820\n",
            "Epoch 44/100\n",
            "2/2 [==============================] - 0s 6ms/step - loss: 0.3360 - root_mean_squared_error: 0.5796\n",
            "Epoch 45/100\n",
            "2/2 [==============================] - 0s 6ms/step - loss: 0.3832 - root_mean_squared_error: 0.6190\n",
            "Epoch 46/100\n",
            "2/2 [==============================] - 0s 6ms/step - loss: 0.3295 - root_mean_squared_error: 0.5740\n",
            "Epoch 47/100\n",
            "2/2 [==============================] - 0s 7ms/step - loss: 0.3734 - root_mean_squared_error: 0.6111\n",
            "Epoch 48/100\n",
            "2/2 [==============================] - 0s 8ms/step - loss: 0.3267 - root_mean_squared_error: 0.5716\n",
            "Epoch 49/100\n",
            "2/2 [==============================] - 0s 8ms/step - loss: 0.3247 - root_mean_squared_error: 0.5698\n",
            "Epoch 50/100\n",
            "2/2 [==============================] - 0s 5ms/step - loss: 0.3188 - root_mean_squared_error: 0.5646\n",
            "Epoch 51/100\n",
            "2/2 [==============================] - 0s 7ms/step - loss: 0.3252 - root_mean_squared_error: 0.5702\n",
            "Epoch 52/100\n",
            "2/2 [==============================] - 0s 6ms/step - loss: 0.3351 - root_mean_squared_error: 0.5789\n",
            "Epoch 53/100\n",
            "2/2 [==============================] - 0s 6ms/step - loss: 0.3135 - root_mean_squared_error: 0.5599\n",
            "Epoch 54/100\n",
            "2/2 [==============================] - 0s 7ms/step - loss: 0.3291 - root_mean_squared_error: 0.5736\n",
            "Epoch 55/100\n",
            "2/2 [==============================] - 0s 7ms/step - loss: 0.3041 - root_mean_squared_error: 0.5514\n",
            "Epoch 56/100\n",
            "2/2 [==============================] - 0s 7ms/step - loss: 0.3007 - root_mean_squared_error: 0.5484\n",
            "Epoch 57/100\n",
            "2/2 [==============================] - 0s 6ms/step - loss: 0.3022 - root_mean_squared_error: 0.5497\n",
            "Epoch 58/100\n",
            "2/2 [==============================] - 0s 7ms/step - loss: 0.3516 - root_mean_squared_error: 0.5930\n",
            "Epoch 59/100\n",
            "2/2 [==============================] - 0s 6ms/step - loss: 0.3402 - root_mean_squared_error: 0.5832\n",
            "Epoch 60/100\n",
            "2/2 [==============================] - 0s 7ms/step - loss: 0.2903 - root_mean_squared_error: 0.5388\n",
            "Epoch 61/100\n",
            "2/2 [==============================] - 0s 6ms/step - loss: 0.2885 - root_mean_squared_error: 0.5372\n",
            "Epoch 62/100\n",
            "2/2 [==============================] - 0s 8ms/step - loss: 0.2941 - root_mean_squared_error: 0.5423\n",
            "Epoch 63/100\n",
            "2/2 [==============================] - 0s 7ms/step - loss: 0.2916 - root_mean_squared_error: 0.5400\n",
            "Epoch 64/100\n",
            "2/2 [==============================] - 0s 8ms/step - loss: 0.2859 - root_mean_squared_error: 0.5347\n",
            "Epoch 65/100\n",
            "2/2 [==============================] - 0s 8ms/step - loss: 0.2830 - root_mean_squared_error: 0.5320\n",
            "Epoch 66/100\n",
            "2/2 [==============================] - 0s 8ms/step - loss: 0.2762 - root_mean_squared_error: 0.5255\n",
            "Epoch 67/100\n",
            "2/2 [==============================] - 0s 5ms/step - loss: 0.3290 - root_mean_squared_error: 0.5736\n",
            "Epoch 68/100\n",
            "2/2 [==============================] - 0s 9ms/step - loss: 0.2792 - root_mean_squared_error: 0.5284\n",
            "Epoch 69/100\n",
            "2/2 [==============================] - 0s 8ms/step - loss: 0.2767 - root_mean_squared_error: 0.5260\n",
            "Epoch 70/100\n",
            "2/2 [==============================] - 0s 8ms/step - loss: 0.2879 - root_mean_squared_error: 0.5365\n",
            "Epoch 71/100\n",
            "2/2 [==============================] - 0s 7ms/step - loss: 0.2847 - root_mean_squared_error: 0.5335\n",
            "Epoch 72/100\n",
            "2/2 [==============================] - 0s 7ms/step - loss: 0.2701 - root_mean_squared_error: 0.5197\n",
            "Epoch 73/100\n",
            "2/2 [==============================] - 0s 7ms/step - loss: 0.2742 - root_mean_squared_error: 0.5237\n",
            "Epoch 74/100\n",
            "2/2 [==============================] - 0s 7ms/step - loss: 0.2793 - root_mean_squared_error: 0.5285\n",
            "Epoch 75/100\n",
            "2/2 [==============================] - 0s 6ms/step - loss: 0.2626 - root_mean_squared_error: 0.5125\n",
            "Epoch 76/100\n",
            "2/2 [==============================] - 0s 7ms/step - loss: 0.2610 - root_mean_squared_error: 0.5109\n",
            "Epoch 77/100\n",
            "2/2 [==============================] - 0s 6ms/step - loss: 0.2544 - root_mean_squared_error: 0.5044\n",
            "Epoch 78/100\n",
            "2/2 [==============================] - 0s 8ms/step - loss: 0.2522 - root_mean_squared_error: 0.5022\n",
            "Epoch 79/100\n",
            "2/2 [==============================] - 0s 7ms/step - loss: 0.2507 - root_mean_squared_error: 0.5007\n",
            "Epoch 80/100\n",
            "2/2 [==============================] - 0s 7ms/step - loss: 0.2487 - root_mean_squared_error: 0.4987\n",
            "Epoch 81/100\n",
            "2/2 [==============================] - 0s 7ms/step - loss: 0.3058 - root_mean_squared_error: 0.5530\n",
            "Epoch 82/100\n",
            "2/2 [==============================] - 0s 5ms/step - loss: 0.2556 - root_mean_squared_error: 0.5055\n",
            "Epoch 83/100\n",
            "2/2 [==============================] - 0s 5ms/step - loss: 0.2424 - root_mean_squared_error: 0.4923\n",
            "Epoch 84/100\n",
            "2/2 [==============================] - 0s 7ms/step - loss: 0.2415 - root_mean_squared_error: 0.4914\n",
            "Epoch 85/100\n",
            "2/2 [==============================] - 0s 6ms/step - loss: 0.2402 - root_mean_squared_error: 0.4901\n",
            "Epoch 86/100\n",
            "2/2 [==============================] - 0s 9ms/step - loss: 0.2709 - root_mean_squared_error: 0.5205\n",
            "Epoch 87/100\n",
            "2/2 [==============================] - 0s 6ms/step - loss: 0.2499 - root_mean_squared_error: 0.4999\n",
            "Epoch 88/100\n",
            "2/2 [==============================] - 0s 6ms/step - loss: 0.2625 - root_mean_squared_error: 0.5124\n",
            "Epoch 89/100\n",
            "2/2 [==============================] - 0s 7ms/step - loss: 0.2333 - root_mean_squared_error: 0.4830\n",
            "Epoch 90/100\n",
            "2/2 [==============================] - 0s 10ms/step - loss: 0.2606 - root_mean_squared_error: 0.5105\n",
            "Epoch 91/100\n",
            "2/2 [==============================] - 0s 6ms/step - loss: 0.2304 - root_mean_squared_error: 0.4800\n",
            "Epoch 92/100\n",
            "2/2 [==============================] - 0s 5ms/step - loss: 0.2353 - root_mean_squared_error: 0.4851\n",
            "Epoch 93/100\n",
            "2/2 [==============================] - 0s 7ms/step - loss: 0.2319 - root_mean_squared_error: 0.4816\n",
            "Epoch 94/100\n",
            "2/2 [==============================] - 0s 8ms/step - loss: 0.2748 - root_mean_squared_error: 0.5243\n",
            "Epoch 95/100\n",
            "2/2 [==============================] - 0s 8ms/step - loss: 0.2448 - root_mean_squared_error: 0.4948\n",
            "Epoch 96/100\n",
            "2/2 [==============================] - 0s 7ms/step - loss: 0.2353 - root_mean_squared_error: 0.4850\n",
            "Epoch 97/100\n",
            "2/2 [==============================] - 0s 8ms/step - loss: 0.2281 - root_mean_squared_error: 0.4776\n",
            "Epoch 98/100\n",
            "2/2 [==============================] - 0s 12ms/step - loss: 0.2363 - root_mean_squared_error: 0.4861\n",
            "Epoch 99/100\n",
            "2/2 [==============================] - 0s 6ms/step - loss: 0.2206 - root_mean_squared_error: 0.4697\n",
            "Epoch 100/100\n",
            "2/2 [==============================] - 0s 7ms/step - loss: 0.2630 - root_mean_squared_error: 0.5129\n"
          ]
        },
        {
          "output_type": "stream",
          "name": "stderr",
          "text": [
            "/usr/local/lib/python3.8/dist-packages/numpy/core/shape_base.py:65: VisibleDeprecationWarning: Creating an ndarray from ragged nested sequences (which is a list-or-tuple of lists-or-tuples-or ndarrays with different lengths or shapes) is deprecated. If you meant to do this, you must specify 'dtype=object' when creating the ndarray.\n",
            "  ary = asanyarray(ary)\n"
          ]
        },
        {
          "output_type": "display_data",
          "data": {
            "text/plain": [
              "<Figure size 432x288 with 1 Axes>"
            ],
            "image/png": "[encoded data removed]"
          },
          "metadata": {
            "needs_background": "light"
          }
        },
        {
          "output_type": "display_data",
          "data": {
            "text/plain": [
              "<Figure size 432x288 with 1 Axes>"
            ],
            "image/png": "[encoded data removed]"
          },
          "metadata": {
            "needs_background": "light"
          }
        }
      ],
      "source": [
        "learning_rate=0.01\n",
        "epochs=100\n",
        "my_batch_size=3\n",
        "\n",
        "my_model = build_model(learning_rate)\n",
        "trained_weight, trained_bias, epochs, rmse = train_model(my_model, my_feature, \n",
        "                                                         my_label, epochs,\n",
        "                                                         my_batch_size)\n",
        "plot_the_model(trained_weight, trained_bias, my_feature, my_label)\n",
        "plot_the_loss_curve(epochs, rmse)"
      ]
    },
    {
      "cell_type": "code",
      "source": [],
      "metadata": {
        "id": "ChQl9Ozzf-e2"
      },
      "execution_count": 5,
      "outputs": []
    }
  ]
}